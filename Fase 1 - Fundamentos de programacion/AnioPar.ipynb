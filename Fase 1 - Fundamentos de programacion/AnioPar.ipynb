{
 "cells": [
  {
   "cell_type": "markdown",
   "metadata": {},
   "source": [
    "Solicitar año de nacimiento y evaluar si el año es par o impar"
   ]
  },
  {
   "cell_type": "code",
   "execution_count": 5,
   "metadata": {},
   "outputs": [
    {
     "name": "stdout",
     "output_type": "stream",
     "text": [
      "Introduce tu año de nacimiento2000\n",
      "El anio 2000 es par\n"
     ]
    }
   ],
   "source": [
    "anio_nacimiento = int(input('Introduce tu año de nacimiento'))\n",
    "\n",
    "if anio_nacimiento%2==0:\n",
    "    print('El anio '+ str(anio_nacimiento) + ' es par')\n",
    "else:\n",
    "    print('El anio '+ str(anio_nacimiento) + ' es impar')\n"
   ]
  }
 ],
 "metadata": {
  "kernelspec": {
   "display_name": "Python 3",
   "language": "python",
   "name": "python3"
  },
  "language_info": {
   "codemirror_mode": {
    "name": "ipython",
    "version": 3
   },
   "file_extension": ".py",
   "mimetype": "text/x-python",
   "name": "python",
   "nbconvert_exporter": "python",
   "pygments_lexer": "ipython3",
   "version": "3.7.3"
  }
 },
 "nbformat": 4,
 "nbformat_minor": 2
}
