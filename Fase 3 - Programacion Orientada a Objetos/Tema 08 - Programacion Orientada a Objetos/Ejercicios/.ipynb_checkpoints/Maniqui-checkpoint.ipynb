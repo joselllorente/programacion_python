{
 "cells": [
  {
   "cell_type": "code",
   "execution_count": 1,
   "metadata": {},
   "outputs": [],
   "source": [
    "class Boton:\n",
    "    color = None\n",
    "    tamanio = None\n",
    "    \n",
    "    def __init__ (self, color, tamanio):\n",
    "        self.color = color\n",
    "        self.tamanio = tamanio\n",
    "    "
   ]
  },
  {
   "cell_type": "code",
   "execution_count": 2,
   "metadata": {},
   "outputs": [],
   "source": [
    "class Pantalon:\n",
    "    color = None\n",
    "    precio = None\n",
    "    talla = None\n",
    "    boton = None\n",
    "    \n",
    "    def __init__ (self, color, precio, talla, boton):\n",
    "        self.color = color\n",
    "        self.precio = precio\n",
    "        self.talla = talla\n",
    "        self.boton = boton"
   ]
  },
  {
   "cell_type": "code",
   "execution_count": 3,
   "metadata": {},
   "outputs": [],
   "source": [
    "class Camisa:\n",
    "    color = None\n",
    "    precio = None\n",
    "    talla = None\n",
    "    botones = []\n",
    "    \n",
    "    def __init__ (self, color, precio, talla, botones):\n",
    "        self.color = color\n",
    "        self.precio = precio\n",
    "        self.talla = talla\n",
    "        self.botones = botones"
   ]
  },
  {
   "cell_type": "code",
   "execution_count": 4,
   "metadata": {},
   "outputs": [],
   "source": [
    "class Vestido:\n",
    "    color = None\n",
    "    precio = None\n",
    "    talla = None\n",
    "    botones = []\n",
    "    \n",
    "    def __init__ (self, color, precio, talla, botones):\n",
    "        self.color = color\n",
    "        self.precio = precio\n",
    "        self.talla = talla\n",
    "        self.botones = botones"
   ]
  },
  {
   "cell_type": "code",
   "execution_count": 55,
   "metadata": {},
   "outputs": [],
   "source": [
    "class Maniqui:\n",
    "    id = None\n",
    "    __pantalon = None\n",
    "    __camisa = None\n",
    "    __vestido = None\n",
    "    \n",
    "    def __init__ (self,id):\n",
    "        self.id = id\n",
    "    \n",
    "    def vestir_pc (self, pantalon, camisa):\n",
    "        self.desvestir()\n",
    "        self.__pantalon = pantalon\n",
    "        self.__camisa = camisa\n",
    "        print(\"Maniqui\",self.id, \" vestido con pantalon y camisa\")\n",
    "        \n",
    "    def vestir_v (self, vestido):\n",
    "        self.desvestir()\n",
    "        self.__vestido = vestido\n",
    "        print(\"Maniqui\",self.id, \" vestido con vestido\")\n",
    "        \n",
    "    def desvestir (self):\n",
    "        self.__pantalon = None\n",
    "        self.__camisa = None\n",
    "        self.__vestido = None\n",
    "        print(\"Maniqui\",self.id, \" desnudo\")\n",
    "        \n",
    "    def mostrar (self):\n",
    "        print (self.__pantalon)\n",
    "        if not self.__pantalon==None:\n",
    "            print(\"Maniqui con pantalon de color \", self.__pantalon.color, self.__pantalon.talla)"
   ]
  },
  {
   "cell_type": "code",
   "execution_count": 56,
   "metadata": {},
   "outputs": [
    {
     "name": "stdout",
     "output_type": "stream",
     "text": [
      "Maniqui 1  desnudo\n",
      "Maniqui 1  vestido con pantalon y camisa\n",
      "None\n"
     ]
    }
   ],
   "source": [
    "pantalon1 = Pantalon(\"Azul\",50.0,\"L\",Boton(\"Negro\",\"Pequeño\"))\n",
    "camisa1 = Camisa(\"Blanca\",50.0,\"L\",[Boton(\"Blanco\",\"Pequeño\"), Boton(\"Blanco\",\"Pequeño\")])\n",
    "vestido = Vestido(\"Verde\",50.0,\"L\",[Boton(\"Blanco\",\"Pequeño\"), Boton(\"Blanco\",\"Pequeño\")])\n",
    "\n",
    "maniqui4 = Maniqui (\"1\")\n",
    "maniqui4.vestir_pc(pantalon1, camisa1)\n",
    "\n",
    "\n",
    "maniqui4.mostrar()\n",
    "\n"
   ]
  }
 ],
 "metadata": {
  "kernelspec": {
   "display_name": "Python 3",
   "language": "python",
   "name": "python3"
  },
  "language_info": {
   "codemirror_mode": {
    "name": "ipython",
    "version": 3
   },
   "file_extension": ".py",
   "mimetype": "text/x-python",
   "name": "python",
   "nbconvert_exporter": "python",
   "pygments_lexer": "ipython3",
   "version": "3.7.3"
  }
 },
 "nbformat": 4,
 "nbformat_minor": 2
}
